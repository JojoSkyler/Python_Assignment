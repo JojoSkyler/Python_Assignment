{
  "nbformat": 4,
  "nbformat_minor": 0,
  "metadata": {
    "colab": {
      "provenance": [],
      "authorship_tag": "ABX9TyMzpZMJpxoim3hWJeAXHb0e",
      "include_colab_link": true
    },
    "kernelspec": {
      "name": "python3",
      "display_name": "Python 3"
    },
    "language_info": {
      "name": "python"
    }
  },
  "cells": [
    {
      "cell_type": "markdown",
      "metadata": {
        "id": "view-in-github",
        "colab_type": "text"
      },
      "source": [
        "<a href=\"https://colab.research.google.com/github/JojoSkyler/Python_Assignment/blob/main/user_input_py.ipynb\" target=\"_parent\"><img src=\"https://colab.research.google.com/assets/colab-badge.svg\" alt=\"Open In Colab\"/></a>"
      ]
    },
    {
      "cell_type": "code",
      "execution_count": 1,
      "metadata": {
        "colab": {
          "base_uri": "https://localhost:8080/"
        },
        "id": "zXBk4zgfRVmt",
        "outputId": "cc482c2b-52e5-4589-acca-5a40c99730c8"
      },
      "outputs": [
        {
          "output_type": "stream",
          "name": "stdout",
          "text": [
            "Please enter your name Joan\n",
            "Please enter your age 18\n",
            "Please enter your location Nanyuki\n",
            "Hello  Joan , you are  18 years old and live in  Nanyuki.\n"
          ]
        }
      ],
      "source": [
        "Name=input(\"Please enter your name\")\n",
        "Age=input(\"Please enter your age\")\n",
        "Location=input(\"Please enter your location\")\n",
        "print(f\"Hello {Name} , you are {Age} years old and live in {Location}.\")\n",
        "\n"
      ]
    }
  ]
}